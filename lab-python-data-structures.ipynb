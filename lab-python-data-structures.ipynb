{
 "cells": [
  {
   "cell_type": "code",
   "execution_count": 133,
   "id": "0bc935ae-e231-4eef-bfa9-3ac95290cef1",
   "metadata": {},
   "outputs": [],
   "source": [
    "#1 Define a list called products that contains the following items: \"t-shirt\", \"mug\", \"hat\", \"book\", \"keychain\"\n",
    "products= [\"t-shirt\", \"mug\", \"hat\", \"book\", \"keychain\"]"
   ]
  },
  {
   "cell_type": "code",
   "execution_count": 135,
   "id": "9a7cb98b-f021-4e75-9a2c-378b6f781a07",
   "metadata": {},
   "outputs": [],
   "source": [
    "#2 Create an empty dictionary called inventory.\n",
    "inventory={}"
   ]
  },
  {
   "cell_type": "code",
   "execution_count": 137,
   "id": "b5539ca3-6779-4dc2-86e0-e057a18be960",
   "metadata": {},
   "outputs": [
    {
     "name": "stdin",
     "output_type": "stream",
     "text": [
      "ingrese cantidad disponible:  10\n",
      "ingrese cantidad disponible  20\n",
      "ingrese cantidad disponible 30\n",
      "ingrese cantidad disponible 40\n",
      "ingrese cantidad disponible 50\n"
     ]
    }
   ],
   "source": [
    "#3 Ask the user to input the quantity of each product available in the inventory. Use the product names from the products list as keys in the inventory dictionary and assign the respective quantities as values.\n",
    "inventory[\"t-shirt\"]=int(input(\"ingrese cantidad disponible: \"))\n",
    "inventory[\"mug\"]= int(input(\"ingrese cantidad disponible \"))\n",
    "inventory[\"hat\"]= int(input(\"ingrese cantidad disponible\"))\n",
    "inventory[\"book\"]= int(input(\"ingrese cantidad disponible\"))\n",
    "inventory[\"keychain\"]= int(input(\"ingrese cantidad disponible\")) "
   ]
  },
  {
   "cell_type": "code",
   "execution_count": 139,
   "id": "98ec25c2-16a4-4590-acea-944704dac3ee",
   "metadata": {},
   "outputs": [],
   "source": [
    "#4 Create an empty set called customer_orders\n",
    "customer_orders= set()"
   ]
  },
  {
   "cell_type": "code",
   "execution_count": 141,
   "id": "c5b7112a-4153-4cc8-ae88-5aacfd31538d",
   "metadata": {},
   "outputs": [
    {
     "name": "stdin",
     "output_type": "stream",
     "text": [
      "ingrese que desea:  mug\n",
      "ingrese que desea:  hat\n",
      "ingrese que desea:  book\n"
     ]
    },
    {
     "data": {
      "text/plain": [
       "{'book', 'hat', 'mug'}"
      ]
     },
     "execution_count": 141,
     "metadata": {},
     "output_type": "execute_result"
    }
   ],
   "source": [
    "#5 Ask the user to input the name of three products that a customer wants to order (from those in the products list, meaning three products out of \"t-shirt\", \"mug\", \"hat\", \"book\" or \"keychain\". Add each product name to the customer_orders set\n",
    "customer_orders.add(input(\"ingrese que desea: \"))\n",
    "customer_orders.add(input(\"ingrese que desea: \"))\n",
    "customer_orders.add(input(\"ingrese que desea: \"))\n",
    "customer_orders\n",
    "                                                                "
   ]
  },
  {
   "cell_type": "code",
   "execution_count": 143,
   "id": "c3bb0c47-1e09-400c-b033-cb5e2e6099f3",
   "metadata": {},
   "outputs": [
    {
     "data": {
      "text/plain": [
       "{'book', 'hat', 'mug'}"
      ]
     },
     "execution_count": 143,
     "metadata": {},
     "output_type": "execute_result"
    }
   ],
   "source": [
    "#6 Print the products in the customer_orders set.\n",
    "customer_orders"
   ]
  },
  {
   "cell_type": "code",
   "execution_count": 145,
   "id": "6526c5e1-6139-4058-abe6-716c99447ffa",
   "metadata": {},
   "outputs": [
    {
     "data": {
      "text/plain": [
       "3"
      ]
     },
     "execution_count": 145,
     "metadata": {},
     "output_type": "execute_result"
    }
   ],
   "source": [
    "#7 Calculate the following order statistics:\n",
    "#a Total Products Ordered: The total number of products in the customer_orders set.\n",
    "total_product_ordered=len(customer_orders)\n",
    "total_product_ordered"
   ]
  },
  {
   "cell_type": "code",
   "execution_count": 147,
   "id": "be92f7d5-a9ec-4957-ae06-4a6220f43f13",
   "metadata": {},
   "outputs": [
    {
     "data": {
      "text/plain": [
       "60.0"
      ]
     },
     "execution_count": 147,
     "metadata": {},
     "output_type": "execute_result"
    }
   ],
   "source": [
    "#b Percentage of Products Ordered: The percentage of products ordered compared to the total available products.Store these statistics in a tuple called order_status.\n",
    "total_available_product= len(inventory)\n",
    "percentage=total_product_ordered*100/total_available_product\n",
    "percentage\n"
   ]
  },
  {
   "cell_type": "code",
   "execution_count": 159,
   "id": "d25d60c9-9b4e-433a-8434-8a9e9ad2b480",
   "metadata": {},
   "outputs": [
    {
     "name": "stdout",
     "output_type": "stream",
     "text": [
      "order statistics\n",
      "total product ordered: 3\n",
      "percentage of products ordered 60.0\n"
     ]
    }
   ],
   "source": [
    "#8 Print the order statistics\n",
    "print(\"order statistics\")\n",
    "print(\"total product ordered:\", total_product_ordered)\n",
    "print(\"percentage of products ordered\", percentage)"
   ]
  },
  {
   "cell_type": "code",
   "execution_count": 181,
   "id": "264bf4c8-0227-4a2d-b829-86edf09ee33c",
   "metadata": {},
   "outputs": [
    {
     "data": {
      "text/plain": [
       "{'t-shirt': 7, 'mug': 17, 'hat': 27, 'book': 37, 'keychain': 47}"
      ]
     },
     "execution_count": 181,
     "metadata": {},
     "output_type": "execute_result"
    }
   ],
   "source": [
    "#9 Update the inventory by subtracting 1 from the quantity of each product. Modify the inventory dictionary accordingly.\n",
    "inventory[\"t-shirt\"]-=1\n",
    "inventory[\"mug\"]-=1\n",
    "inventory[\"hat\"]-=1\n",
    "inventory[\"book\"]-=1\n",
    "inventory[\"keychain\"]-=1\n",
    "inventory"
   ]
  },
  {
   "cell_type": "code",
   "execution_count": 169,
   "id": "8de97214-1456-48c3-94d6-a81b43579472",
   "metadata": {},
   "outputs": [
    {
     "data": {
      "text/plain": [
       "8"
      ]
     },
     "execution_count": 169,
     "metadata": {},
     "output_type": "execute_result"
    }
   ],
   "source": [
    "#10 Print the updated inventory, displaying the quantity of each product on separate lines.\n",
    "inventory.get(\"t-shirt\")"
   ]
  },
  {
   "cell_type": "code",
   "execution_count": 171,
   "id": "462c870d-1a68-4268-8fe9-d0d0dc577889",
   "metadata": {},
   "outputs": [
    {
     "data": {
      "text/plain": [
       "18"
      ]
     },
     "execution_count": 171,
     "metadata": {},
     "output_type": "execute_result"
    }
   ],
   "source": [
    "inventory.get(\"mug\")"
   ]
  },
  {
   "cell_type": "code",
   "execution_count": 173,
   "id": "83f2ed6e-9ab5-414f-8feb-3e7ea3b77d1e",
   "metadata": {},
   "outputs": [
    {
     "data": {
      "text/plain": [
       "28"
      ]
     },
     "execution_count": 173,
     "metadata": {},
     "output_type": "execute_result"
    }
   ],
   "source": [
    "inventory.get(\"hat\")"
   ]
  },
  {
   "cell_type": "code",
   "execution_count": 175,
   "id": "90fdf501-977f-4f6b-9e67-a1bfb49235c5",
   "metadata": {},
   "outputs": [
    {
     "data": {
      "text/plain": [
       "38"
      ]
     },
     "execution_count": 175,
     "metadata": {},
     "output_type": "execute_result"
    }
   ],
   "source": [
    "inventory.get(\"book\")"
   ]
  },
  {
   "cell_type": "code",
   "execution_count": 177,
   "id": "d54e238b-bf3d-4180-8102-89bd5db96177",
   "metadata": {},
   "outputs": [
    {
     "data": {
      "text/plain": [
       "48"
      ]
     },
     "execution_count": 177,
     "metadata": {},
     "output_type": "execute_result"
    }
   ],
   "source": [
    "inventory.get(\"keychain\")"
   ]
  },
  {
   "cell_type": "code",
   "execution_count": null,
   "id": "31ab8d79-1240-4f86-af7a-7daf0b5936c5",
   "metadata": {},
   "outputs": [],
   "source": []
  }
 ],
 "metadata": {
  "kernelspec": {
   "display_name": "Python 3 (ipykernel)",
   "language": "python",
   "name": "python3"
  },
  "language_info": {
   "codemirror_mode": {
    "name": "ipython",
    "version": 3
   },
   "file_extension": ".py",
   "mimetype": "text/x-python",
   "name": "python",
   "nbconvert_exporter": "python",
   "pygments_lexer": "ipython3",
   "version": "3.12.4"
  }
 },
 "nbformat": 4,
 "nbformat_minor": 5
}
